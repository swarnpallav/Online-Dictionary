{
 "cells": [
  {
   "cell_type": "code",
   "execution_count": 10,
   "metadata": {},
   "outputs": [
    {
     "name": "stdout",
     "output_type": "stream",
     "text": [
      "Enter a word: \n",
      "invalid\n",
      "Did you mean valid. Enter Y for yes, N for No\n",
      "n\n",
      "Did you mean invalidate. Enter Y for yes, N for No\n",
      "n\n",
      "Did you mean invade. Enter Y for yes, N for No\n",
      "n\n",
      "Please enter a meaningful word\n"
     ]
    }
   ],
   "source": [
    "import json\n",
    "from difflib import get_close_matches\n",
    "\n",
    "data = json.load ( open( 'data.json', ) )\n",
    "\n",
    "print( \"Enter a word: \" )\n",
    "val = input().lower()\n",
    "\n",
    "flag = 0\n",
    "\n",
    "for x in data:\n",
    "    if x.lower() == val:\n",
    "        flag = 1\n",
    "        for i in data[x]:\n",
    "            print( i )\n",
    "            \n",
    "if flag == 0:\n",
    "    counter = 0\n",
    "    item = 0\n",
    "    \n",
    "    while counter < 3 and counter < len ( get_close_matches ( val , data.keys() ) ):\n",
    "        \n",
    "        if len ( get_close_matches ( val , data.keys() ) )>0:\n",
    "            \n",
    "            lis = get_close_matches ( val , data.keys() )\n",
    "            \n",
    "            print ( \"Did you mean \" + lis[item] + \". Enter Y for yes, N for No\" )\n",
    "            choice = input().lower()\n",
    "            \n",
    "            if choice == \"y\":\n",
    "                \n",
    "                for i in data[ lis[0] ]:\n",
    "                    print( i )\n",
    "                \n",
    "                flag = 1\n",
    "                break\n",
    "            \n",
    "            elif choice == 'n':\n",
    "                counter += 1\n",
    "                item += 1\n",
    "           \n",
    "            else:\n",
    "                print( \"Invalid Choice\" )\n",
    "                counter += 1\n",
    "\n",
    "    if flag == 0:\n",
    "        print( \"Please enter a meaningful word\" )\n",
    "            "
   ]
  },
  {
   "cell_type": "code",
   "execution_count": 11,
   "metadata": {},
   "outputs": [
    {
     "name": "stdout",
     "output_type": "stream",
     "text": [
      "49537\n"
     ]
    }
   ],
   "source": [
    "print(len(data))"
   ]
  }
 ],
 "metadata": {
  "kernelspec": {
   "display_name": "Python 3",
   "language": "python",
   "name": "python3"
  },
  "language_info": {
   "codemirror_mode": {
    "name": "ipython",
    "version": 3
   },
   "file_extension": ".py",
   "mimetype": "text/x-python",
   "name": "python",
   "nbconvert_exporter": "python",
   "pygments_lexer": "ipython3",
   "version": "3.7.6"
  }
 },
 "nbformat": 4,
 "nbformat_minor": 4
}
